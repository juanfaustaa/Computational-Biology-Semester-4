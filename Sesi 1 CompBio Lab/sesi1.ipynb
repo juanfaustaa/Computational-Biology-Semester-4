{
 "cells": [
  {
   "cell_type": "code",
   "execution_count": 3,
   "metadata": {},
   "outputs": [],
   "source": [
    "from Bio.Seq import Seq"
   ]
  },
  {
   "cell_type": "code",
   "execution_count": 4,
   "metadata": {},
   "outputs": [
    {
     "name": "stdout",
     "output_type": "stream",
     "text": [
      "ATCGTGCATCGT\n",
      "GATGCTGATCGA\n",
      "ATCGTGCATCGTGATGCTGATCGA\n"
     ]
    }
   ],
   "source": [
    "seqA = Seq('ATCGTGCATCGT')\n",
    "print(seqA)\n",
    "\n",
    "seqB = Seq('GATGCTGATCGA')\n",
    "print(seqB)\n",
    "# combining\n",
    "seqC = seqA + seqB\n",
    "print(seqC)"
   ]
  },
  {
   "cell_type": "code",
   "execution_count": 5,
   "metadata": {},
   "outputs": [
    {
     "name": "stdout",
     "output_type": "stream",
     "text": [
      "Length of sequence A: 12\n",
      "Length of sequence B: 12\n"
     ]
    }
   ],
   "source": [
    "#length\n",
    "\n",
    "print(f'Length of sequence A: {len(seqA)}')\n",
    "print(f'Length of sequence B: {len(seqB)}')"
   ]
  },
  {
   "cell_type": "code",
   "execution_count": 6,
   "metadata": {},
   "outputs": [
    {
     "name": "stdout",
     "output_type": "stream",
     "text": [
      "ATCGTG\n",
      "CATCGT\n",
      "TGCTGATC\n",
      "TCGT\n",
      "GTCGTG\n",
      "SeqD: ATCGTGGATCGA\n"
     ]
    }
   ],
   "source": [
    "#slicing (kayak dari index awal ke index akhir aja sih)\n",
    "print(seqA[:6]) #6 dari depan\n",
    "print(seqA[-6:]) #6 dari belakang\n",
    "print(seqB[2:10])\n",
    "print(seqB[2:10:2])\n",
    "print(seqB[::2])\n",
    "\n",
    "seqD = seqA[:6] + seqB[-6:]\n",
    "print(f'SeqD: {seqD}')\n"
   ]
  },
  {
   "cell_type": "code",
   "execution_count": 7,
   "metadata": {},
   "outputs": [
    {
     "name": "stdout",
     "output_type": "stream",
     "text": [
      "Original SeqA: ATCGTGCATCGT\n",
      "Reversed SeqA: TGCTACGTGCTA\n"
     ]
    }
   ],
   "source": [
    "#reversing\n",
    "print(f'Original SeqA: {seqA}')\n",
    "print(f'Reversed SeqA: {seqA[::-1]}')"
   ]
  },
  {
   "cell_type": "code",
   "execution_count": 8,
   "metadata": {},
   "outputs": [
    {
     "name": "stdout",
     "output_type": "stream",
     "text": [
      "A: 2\n",
      "T: 4\n",
      "G: 3\n",
      "C: 3\n"
     ]
    }
   ],
   "source": [
    "#count\n",
    "print(f'A: {seqA.count('A')}')\n",
    "print(f'T: {seqA.count('T')}')\n",
    "print(f'G: {seqA.count('G')}')\n",
    "print(f'C: {seqA.count('C')}')"
   ]
  },
  {
   "cell_type": "code",
   "execution_count": 9,
   "metadata": {},
   "outputs": [
    {
     "name": "stdout",
     "output_type": "stream",
     "text": [
      "A: 0\n",
      "AT: 0\n",
      "AT: 7\n",
      "C: 2\n"
     ]
    }
   ],
   "source": [
    "#find -> ATCGTGCATCGT\n",
    "print(f'A: {seqA.find('A')}')\n",
    "print(f'AT: {seqA.find('AT')}')\n",
    "print(f'AT: {seqA.rfind('AT')}') #cari dari kanan\n",
    "print(f'C: {seqA.find('C')}')"
   ]
  },
  {
   "cell_type": "code",
   "execution_count": 10,
   "metadata": {},
   "outputs": [
    {
     "name": "stdout",
     "output_type": "stream",
     "text": [
      "A: 0\n"
     ]
    }
   ],
   "source": [
    "#index\n",
    "print(f'A: {seqA.index('A')}')\n",
    "#print(f'Z: {seqA.index('Z')}') #error kalo kagak ada"
   ]
  },
  {
   "cell_type": "code",
   "execution_count": 11,
   "metadata": {},
   "outputs": [],
   "source": [
    "#find sub-sequence\n",
    "from Bio.SeqUtils import nt_search"
   ]
  },
  {
   "cell_type": "code",
   "execution_count": 12,
   "metadata": {},
   "outputs": [
    {
     "name": "stdout",
     "output_type": "stream",
     "text": [
      "['AT', 0, 7]\n"
     ]
    }
   ],
   "source": [
    "subSeq = Seq('AT')\n",
    "result = nt_search(str(seqA), subSeq)\n",
    "print(result)"
   ]
  },
  {
   "cell_type": "code",
   "execution_count": 14,
   "metadata": {},
   "outputs": [],
   "source": [
    "#Plotting\n",
    "from collections import Counter\n",
    "import matplotlib.pyplot as plt"
   ]
  },
  {
   "cell_type": "code",
   "execution_count": 15,
   "metadata": {},
   "outputs": [
    {
     "name": "stdout",
     "output_type": "stream",
     "text": [
      "Counter({'T': 4, 'C': 3, 'G': 3, 'A': 2})\n"
     ]
    }
   ],
   "source": [
    "frequency = Counter(seqA)\n",
    "print(frequency)"
   ]
  },
  {
   "cell_type": "code",
   "execution_count": 16,
   "metadata": {},
   "outputs": [
    {
     "data": {
      "image/png": "[encoded data removed]",
      "text/plain": [
       "<Figure size 640x480 with 1 Axes>"
      ]
     },
     "metadata": {},
     "output_type": "display_data"
    }
   ],
   "source": [
    "seqA_keys = frequency.keys()\n",
    "seqA_values = frequency.values()\n",
    "\n",
    "plt.bar(seqA_keys, seqA_values)\n",
    "plt.title('Nucleotide Frequency')\n",
    "plt.show()"
   ]
  },
  {
   "cell_type": "code",
   "execution_count": null,
   "metadata": {},
   "outputs": [],
   "source": []
  }
 ],
 "metadata": {
  "kernelspec": {
   "display_name": "computational_biology",
   "language": "python",
   "name": "python3"
  },
  "language_info": {
   "codemirror_mode": {
    "name": "ipython",
    "version": 3
   },
   "file_extension": ".py",
   "mimetype": "text/x-python",
   "name": "python",
   "nbconvert_exporter": "python",
   "pygments_lexer": "ipython3",
   "version": "3.13.3"
  }
 },
 "nbformat": 4,
 "nbformat_minor": 2
}
