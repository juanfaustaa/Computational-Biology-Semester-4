{
 "cells": [
  {
   "cell_type": "code",
   "execution_count": 2,
   "metadata": {},
   "outputs": [],
   "source": [
    "from Bio.Seq import Seq\n",
    "from Bio.SeqUtils import seq1, seq3\n",
    "from Bio.Data import CodonTable\n",
    "#"
   ]
  },
  {
   "cell_type": "code",
   "execution_count": 3,
   "metadata": {},
   "outputs": [
    {
     "name": "stdout",
     "output_type": "stream",
     "text": [
      "Coding Strand: ATGATCTCGTAA\n",
      "Template Strand: TACTAGAGCATT\n",
      "Reverse Complement: TTACGAGATCAT\n"
     ]
    }
   ],
   "source": [
    "DNA_Strand = Seq('ATGATCTCGTAA')\n",
    "\n",
    "print(f'Coding Strand: {DNA_Strand}')\n",
    "print(f'Template Strand: {DNA_Strand.complement()}')\n",
    "print(f'Reverse Complement: {DNA_Strand.reverse_complement()}')"
   ]
  },
  {
   "cell_type": "code",
   "execution_count": 36,
   "metadata": {},
   "outputs": [
    {
     "name": "stdout",
     "output_type": "stream",
     "text": [
      "mRNA: AUGAUCUCGUAA\n",
      "DNA: ATGATCTCGTAA\n"
     ]
    }
   ],
   "source": [
    "mRNA = DNA_Strand.transcribe()\n",
    "print(f'mRNA: {mRNA}')\n",
    "print(f'DNA: {mRNA.back_transcribe()}')"
   ]
  },
  {
   "cell_type": "code",
   "execution_count": null,
   "metadata": {},
   "outputs": [
    {
     "name": "stdout",
     "output_type": "stream",
     "text": [
      "Amino Acid: MIS*\n"
     ]
    }
   ],
   "source": [
    "amino_acid = mRNA.translate()\n",
    "\n",
    "print(f'Amino Acid: {amino_acid}')"
   ]
  },
  {
   "cell_type": "code",
   "execution_count": null,
   "metadata": {},
   "outputs": [
    {
     "name": "stdout",
     "output_type": "stream",
     "text": [
      "Polypeptide: MetIleSerTer\n",
      "Amino Acid: MIS*\n"
     ]
    }
   ],
   "source": [
    "#seq1 : Panjang -> pendek\n",
    "#seq3 : pendek -> panjang\n",
    "\n",
    "polypeptide = seq3(amino_acid)\n",
    "print(f'Polypeptide: {polypeptide}')\n",
    "print(f'Amino Acid: {seq1(polypeptide)}')\n",
    "\n",
    "#Ter = terminate"
   ]
  },
  {
   "cell_type": "code",
   "execution_count": 23,
   "metadata": {},
   "outputs": [
    {
     "name": "stdout",
     "output_type": "stream",
     "text": [
      "Table 1 Standard, SGC0\n",
      "\n",
      "  |  U      |  C      |  A      |  G      |\n",
      "--+---------+---------+---------+---------+--\n",
      "U | UUU F   | UCU S   | UAU Y   | UGU C   | U\n",
      "U | UUC F   | UCC S   | UAC Y   | UGC C   | C\n",
      "U | UUA L   | UCA S   | UAA Stop| UGA Stop| A\n",
      "U | UUG L(s)| UCG S   | UAG Stop| UGG W   | G\n",
      "--+---------+---------+---------+---------+--\n",
      "C | CUU L   | CCU P   | CAU H   | CGU R   | U\n",
      "C | CUC L   | CCC P   | CAC H   | CGC R   | C\n",
      "C | CUA L   | CCA P   | CAA Q   | CGA R   | A\n",
      "C | CUG L(s)| CCG P   | CAG Q   | CGG R   | G\n",
      "--+---------+---------+---------+---------+--\n",
      "A | AUU I   | ACU T   | AAU N   | AGU S   | U\n",
      "A | AUC I   | ACC T   | AAC N   | AGC S   | C\n",
      "A | AUA I   | ACA T   | AAA K   | AGA R   | A\n",
      "A | AUG M(s)| ACG T   | AAG K   | AGG R   | G\n",
      "--+---------+---------+---------+---------+--\n",
      "G | GUU V   | GCU A   | GAU D   | GGU G   | U\n",
      "G | GUC V   | GCC A   | GAC D   | GGC G   | C\n",
      "G | GUA V   | GCA A   | GAA E   | GGA G   | A\n",
      "G | GUG V   | GCG A   | GAG E   | GGG G   | G\n",
      "--+---------+---------+---------+---------+--\n"
     ]
    }
   ],
   "source": [
    "print(CodonTable.unambiguous_rna_by_name['Standard'])\n",
    "# print(CodonTable.unambiguous_rna_by_id[1])"
   ]
  },
  {
   "cell_type": "code",
   "execution_count": 31,
   "metadata": {},
   "outputs": [
    {
     "data": {
      "application/3dmoljs_load.v0": "<div id=\"3dmolviewer_17418562332165575\"  style=\"position: relative; width: 640px; height: 480px;\">\n        <p id=\"3dmolwarning_17418562332165575\" style=\"background-color:#ffcccc;color:black\">3Dmol.js failed to load for some reason.  Please check your browser console for error messages.<br></p>\n        </div>\n<script>\n\nvar loadScriptAsync = function(uri){\n  return new Promise((resolve, reject) => {\n    //this is to ignore the existence of requirejs amd\n    var savedexports, savedmodule;\n    if (typeof exports !== 'undefined') savedexports = exports;\n    else exports = {}\n    if (typeof module !== 'undefined') savedmodule = module;\n    else module = {}\n\n    var tag = document.createElement('script');\n    tag.src = uri;\n    tag.async = true;\n    tag.onload = () => {\n        exports = savedexports;\n        module = savedmodule;\n        resolve();\n    };\n  var firstScriptTag = document.getElementsByTagName('script')[0];\n  firstScriptTag.parentNode.insertBefore(tag, firstScriptTag);\n});\n};\n\nif(typeof $3Dmolpromise === 'undefined') {\n$3Dmolpromise = null;\n  $3Dmolpromise = loadScriptAsync('https://cdnjs.cloudflare.com/ajax/libs/3Dmol/2.2.0/3Dmol-min.js');\n}\n\nvar viewer_17418562332165575 = null;\nvar warn = document.getElementById(\"3dmolwarning_17418562332165575\");\nif(warn) {\n    warn.parentNode.removeChild(warn);\n}\n$3Dmolpromise.then(function() {\nviewer_17418562332165575 = $3Dmol.createViewer(document.getElementById(\"3dmolviewer_17418562332165575\"),{backgroundColor:\"white\"});\n$3Dmol.download(\"pdb:1G03\", viewer_17418562332165575, {}, function() {\nviewer_17418562332165575.zoomTo();\n\tviewer_17418562332165575.setStyle({\"cartoon\": {\"color\": \"spectrum\"}});\nviewer_17418562332165575.render();\n})\n});\n</script>",
      "text/html": [
       "<div id=\"3dmolviewer_17418562332165575\"  style=\"position: relative; width: 640px; height: 480px;\">\n",
       "        <p id=\"3dmolwarning_17418562332165575\" style=\"background-color:#ffcccc;color:black\">3Dmol.js failed to load for some reason.  Please check your browser console for error messages.<br></p>\n",
       "        </div>\n",
       "<script>\n",
       "\n",
       "var loadScriptAsync = function(uri){\n",
       "  return new Promise((resolve, reject) => {\n",
       "    //this is to ignore the existence of requirejs amd\n",
       "    var savedexports, savedmodule;\n",
       "    if (typeof exports !== 'undefined') savedexports = exports;\n",
       "    else exports = {}\n",
       "    if (typeof module !== 'undefined') savedmodule = module;\n",
       "    else module = {}\n",
       "\n",
       "    var tag = document.createElement('script');\n",
       "    tag.src = uri;\n",
       "    tag.async = true;\n",
       "    tag.onload = () => {\n",
       "        exports = savedexports;\n",
       "        module = savedmodule;\n",
       "        resolve();\n",
       "    };\n",
       "  var firstScriptTag = document.getElementsByTagName('script')[0];\n",
       "  firstScriptTag.parentNode.insertBefore(tag, firstScriptTag);\n",
       "});\n",
       "};\n",
       "\n",
       "if(typeof $3Dmolpromise === 'undefined') {\n",
       "$3Dmolpromise = null;\n",
       "  $3Dmolpromise = loadScriptAsync('https://cdnjs.cloudflare.com/ajax/libs/3Dmol/2.2.0/3Dmol-min.js');\n",
       "}\n",
       "\n",
       "var viewer_17418562332165575 = null;\n",
       "var warn = document.getElementById(\"3dmolwarning_17418562332165575\");\n",
       "if(warn) {\n",
       "    warn.parentNode.removeChild(warn);\n",
       "}\n",
       "$3Dmolpromise.then(function() {\n",
       "viewer_17418562332165575 = $3Dmol.createViewer(document.getElementById(\"3dmolviewer_17418562332165575\"),{backgroundColor:\"white\"});\n",
       "$3Dmol.download(\"pdb:1G03\", viewer_17418562332165575, {}, function() {\n",
       "viewer_17418562332165575.zoomTo();\n",
       "\tviewer_17418562332165575.setStyle({\"cartoon\": {\"color\": \"spectrum\"}});\n",
       "viewer_17418562332165575.render();\n",
       "})\n",
       "});\n",
       "</script>"
      ]
     },
     "metadata": {},
     "output_type": "display_data"
    }
   ],
   "source": [
    "viewmol = py3Dmol.view(query='pdb:1G03')\n",
    "viewmol.setStyle({'cartoon': {'color': 'spectrum'}})\n",
    "viewmol.show()"
   ]
  },
  {
   "cell_type": "markdown",
   "metadata": {},
   "source": [
    "Latihan Soal"
   ]
  },
  {
   "cell_type": "code",
   "execution_count": 38,
   "metadata": {},
   "outputs": [],
   "source": [
    "DNA_A = Seq('ATGCGTTTATGACGTATCTGAAGTCTACTAGGGTGATCTGACTAA')\n",
    "DNA_B = Seq('GTGTTAGTGCGCTAGTGCTGACTAGGTACAGTAGCTAGTTACTAG')"
   ]
  },
  {
   "cell_type": "code",
   "execution_count": 40,
   "metadata": {},
   "outputs": [
    {
     "name": "stdout",
     "output_type": "stream",
     "text": [
      "mRNA A: AUGCGUUUAUGACGUAUCUGAAGUCUACUAGGGUGAUCUGACUAA\n",
      "mRNA B: GUGUUAGUGCGCUAGUGCUGACUAGGUACAGUAGCUAGUUACUAG\n"
     ]
    }
   ],
   "source": [
    "mRNA_A = DNA_A.transcribe()\n",
    "mRNA_B = DNA_B.transcribe()\n",
    "print(f'mRNA A: {mRNA_A}')\n",
    "print(f'mRNA B: {mRNA_B}')"
   ]
  },
  {
   "cell_type": "code",
   "execution_count": 54,
   "metadata": {},
   "outputs": [
    {
     "name": "stdout",
     "output_type": "stream",
     "text": [
      "mRNA C: AUGCGUUUAUGACGUAUCUGAAGUGGUACAGUAGCUAGUUACUAG\n"
     ]
    }
   ],
   "source": [
    "mRNA_C = mRNA_A[:24] + mRNA_B[-21:]\n",
    "print(f'mRNA C: {mRNA_C}')"
   ]
  },
  {
   "cell_type": "code",
   "execution_count": 51,
   "metadata": {},
   "outputs": [
    {
     "name": "stdout",
     "output_type": "stream",
     "text": [
      "Amino Acid A: MRL*RI*SLLG*SD* -> MetArgLeuTerArgIleTerSerLeuLeuGlyTerSerAspTer\n",
      "Amino Acid B: VLVR*C*LGTVASY* -> ValLeuValArgTerCysTerLeuGlyThrValAlaSerTyrTer\n",
      "Amino Acid C: MRL*RI*SGTVASY* -> MetArgLeuTerArgIleTerSerGlyThrValAlaSerTyrTer\n"
     ]
    }
   ],
   "source": [
    "amino_acid_A = mRNA_A.translate()\n",
    "amino_acid_B = mRNA_B.translate()\n",
    "amino_acid_C = mRNA_C.translate()\n",
    "print(f'Amino Acid A: {amino_acid_A} -> {seq3(amino_acid_A)}')\n",
    "print(f'Amino Acid B: {amino_acid_B} -> {seq3(amino_acid_B)}')\n",
    "print(f'Amino Acid C: {amino_acid_C} -> {seq3(amino_acid_C)}')"
   ]
  },
  {
   "cell_type": "code",
   "execution_count": 64,
   "metadata": {},
   "outputs": [
    {
     "name": "stdout",
     "output_type": "stream",
     "text": [
      "DNA C: ATGCGTTTATGACGTATCTGAAGTGGTACAGTAGCTAGTTACTAG\n"
     ]
    }
   ],
   "source": [
    "DNA_C = mRNA_C.back_transcribe()\n",
    "print(f'DNA C: {DNA_C}')"
   ]
  },
  {
   "cell_type": "code",
   "execution_count": 66,
   "metadata": {},
   "outputs": [
    {
     "name": "stdout",
     "output_type": "stream",
     "text": [
      "Complementary Sequence A: TACGCAAATACTGCATAGACTTCAGATGATCCCACTAGACTGATT\n",
      "Complementary Sequence B: CACAATCACGCGATCACGACTGATCCATGTCATCGATCAATGATC\n",
      "Complementary Sequence C: TACGCAAATACTGCATAGACTTCACCATGTCATCGATCAATGATC\n"
     ]
    }
   ],
   "source": [
    "print(f'Complementary Sequence A: {DNA_A.complement()}')\n",
    "print(f'Complementary Sequence B: {DNA_B.complement()}')\n",
    "print(f'Complementary Sequence C: {DNA_C.complement()}')"
   ]
  }
 ],
 "metadata": {
  "kernelspec": {
   "display_name": "computational_biology",
   "language": "python",
   "name": "python3"
  },
  "language_info": {
   "codemirror_mode": {
    "name": "ipython",
    "version": 3
   },
   "file_extension": ".py",
   "mimetype": "text/x-python",
   "name": "python",
   "nbconvert_exporter": "python",
   "pygments_lexer": "ipython3",
   "version": "3.13.3"
  }
 },
 "nbformat": 4,
 "nbformat_minor": 2
}
