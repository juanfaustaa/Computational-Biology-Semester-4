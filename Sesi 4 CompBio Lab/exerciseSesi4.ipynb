{
 "cells": [
  {
   "cell_type": "code",
   "execution_count": 5,
   "metadata": {},
   "outputs": [],
   "source": [
    "from Bio.Seq import Seq\n",
    "from Levenshtein import distance\n",
    "from Bio import pairwise2\n",
    "from Bio.pairwise2 import format_alignment"
   ]
  },
  {
   "cell_type": "code",
   "execution_count": 4,
   "metadata": {},
   "outputs": [],
   "source": [
    "seqX = Seq('AAGCTTAGCTAGAGCAGTCAGCTAGCTAGCT')\n",
    "seqY = Seq('TCTGAAGCTAGCTAGTGCATAGCTAGCTAGC')"
   ]
  },
  {
   "cell_type": "code",
   "execution_count": 6,
   "metadata": {},
   "outputs": [
    {
     "name": "stdout",
     "output_type": "stream",
     "text": [
      "1 AAGCTTAGCTAGA-GCAGTCAGCTAGCTAGC\n",
      "  |||| |||||||  ||| | |||||||||||\n",
      "5 AAGC-TAGCTAG-TGCA-T-AGCTAGCTAGC\n",
      "  Score=26\n",
      "\n",
      "1 AAGCTTAGCTAGA-GCAGTCAGCTAGCTAGC\n",
      "  ||||| ||||||  ||| | |||||||||||\n",
      "5 AAGCT-AGCTAG-TGCA-T-AGCTAGCTAGC\n",
      "  Score=26\n",
      "\n",
      "1 AAGCTTAGCTAGAGCAGTCAGCTAGCTAGC\n",
      "  |||| |||||||.||| | |||||||||||\n",
      "5 AAGC-TAGCTAGTGCA-T-AGCTAGCTAGC\n",
      "  Score=26\n",
      "\n",
      "1 AAGCTTAGCTAGAGCAGTCAGCTAGCTAGC\n",
      "  ||||| ||||||.||| | |||||||||||\n",
      "5 AAGCT-AGCTAGTGCA-T-AGCTAGCTAGC\n",
      "  Score=26\n",
      "\n"
     ]
    }
   ],
   "source": [
    "localAlignment = pairwise2.align.localxx(seqX, seqY)\n",
    "for i in localAlignment:\n",
    "    print(format_alignment(*i))"
   ]
  },
  {
   "cell_type": "code",
   "execution_count": 7,
   "metadata": {},
   "outputs": [
    {
     "name": "stdout",
     "output_type": "stream",
     "text": [
      "30\n"
     ]
    }
   ],
   "source": [
    "def hamming(x, y):\n",
    "    score = 0\n",
    "    for a, b in zip(x, y):\n",
    "        if a!=b:\n",
    "            score+=1\n",
    "    return score\n",
    "\n",
    "print(hamming(seqX, seqY))"
   ]
  },
  {
   "cell_type": "code",
   "execution_count": 8,
   "metadata": {},
   "outputs": [
    {
     "name": "stdout",
     "output_type": "stream",
     "text": [
      "9\n"
     ]
    }
   ],
   "source": [
    "print(distance(seqX, seqY))"
   ]
  },
  {
   "cell_type": "code",
   "execution_count": 11,
   "metadata": {},
   "outputs": [
    {
     "name": "stdout",
     "output_type": "stream",
     "text": [
      "  |TCTGAAGCTAGCTAGTGCATAGCTAGCTAGC\n",
      "A |     XX   X   X    X X   X   X  \n",
      "A |     XX   X   X    X X   X   X  \n",
      "G |    X  X   X   X X    X   X   X \n",
      "C |  X     X   X     X    X   X   X\n",
      "T | X X     X   X  X   X   X   X   \n",
      "T | X X     X   X  X   X   X   X   \n",
      "A |     XX   X   X    X X   X   X  \n",
      "G |    X  X   X   X X    X   X   X \n",
      "C |  X     X   X     X    X   X   X\n",
      "T | X X     X   X  X   X   X   X   \n",
      "A |     XX   X   X    X X   X   X  \n",
      "G |    X  X   X   X X    X   X   X \n",
      "A |     XX   X   X    X X   X   X  \n",
      "G |    X  X   X   X X    X   X   X \n",
      "C |  X     X   X     X    X   X   X\n",
      "A |     XX   X   X    X X   X   X  \n",
      "G |    X  X   X   X X    X   X   X \n",
      "T | X X     X   X  X   X   X   X   \n",
      "C |  X     X   X     X    X   X   X\n",
      "A |     XX   X   X    X X   X   X  \n",
      "G |    X  X   X   X X    X   X   X \n",
      "C |  X     X   X     X    X   X   X\n",
      "T | X X     X   X  X   X   X   X   \n",
      "A |     XX   X   X    X X   X   X  \n",
      "G |    X  X   X   X X    X   X   X \n",
      "C |  X     X   X     X    X   X   X\n",
      "T | X X     X   X  X   X   X   X   \n",
      "A |     XX   X   X    X X   X   X  \n",
      "G |    X  X   X   X X    X   X   X \n",
      "C |  X     X   X     X    X   X   X\n",
      "T | X X     X   X  X   X   X   X   \n"
     ]
    }
   ],
   "source": [
    "def dotplot(x, y):\n",
    "    print(f'  |{y}')\n",
    "    for i in x:\n",
    "        print(f'{i} | ', end = '')\n",
    "        for j in y:\n",
    "            if i == j:\n",
    "                print(f'X', end = '')\n",
    "            else:\n",
    "                print(f' ', end = '')\n",
    "        print('')\n",
    "        \n",
    "dotplot(seqX, seqY)"
   ]
  }
 ],
 "metadata": {
  "kernelspec": {
   "display_name": "computational_biology",
   "language": "python",
   "name": "python3"
  },
  "language_info": {
   "codemirror_mode": {
    "name": "ipython",
    "version": 3
   },
   "file_extension": ".py",
   "mimetype": "text/x-python",
   "name": "python",
   "nbconvert_exporter": "python",
   "pygments_lexer": "ipython3",
   "version": "3.12.4"
  }
 },
 "nbformat": 4,
 "nbformat_minor": 2
}
